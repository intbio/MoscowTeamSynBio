{
 "cells": [
  {
   "cell_type": "code",
   "execution_count": 3,
   "id": "51e5a2ec-5dd7-4863-837b-997067433041",
   "metadata": {
    "tags": []
   },
   "outputs": [],
   "source": [
    "import pandas as pd\n",
    "import itertools as it\n",
    "from Bio import SeqIO\n",
    "from scipy.special import binom\n",
    "from tqdm.auto import tqdm"
   ]
  },
  {
   "cell_type": "code",
   "execution_count": 11,
   "id": "ca0783bc-a45d-467b-8a26-1ea5e59a189b",
   "metadata": {
    "tags": []
   },
   "outputs": [],
   "source": [
    "def change_aa(mutations, wt_seq):\n",
    "    wt_seq = list(wt_seq)\n",
    "    for mutation in mutations:\n",
    "        wt_aa, pos, new_aa = mutation[0], int(mutation[1:-1]), mutation[-1]\n",
    "        wt_seq[pos - 1] = new_aa\n",
    "    return \"\".join(wt_seq)\n",
    "    "
   ]
  },
  {
   "cell_type": "code",
   "execution_count": 13,
   "id": "7aaa2f48-31a3-465a-a298-0cd8e843dc44",
   "metadata": {
    "tags": []
   },
   "outputs": [],
   "source": [
    "def make_mutations(mutations, N, WT_seq, outfile):\n",
    "    c = 0\n",
    "    n_comb = int(binom(len(mutations), N))\n",
    "    for combination in tqdm(it.combinations(mutations, N), total=n_comb):\n",
    "        for item in it.product(*combination):\n",
    "            new_seq = change_aa(item, WT_seq)\n",
    "            mitation_group = \":\".join(item)\n",
    "            outfile.write(f\"{mitation_group},{new_seq}\\n\")\n",
    "            c += 1\n",
    "    return c"
   ]
  },
  {
   "cell_type": "code",
   "execution_count": 15,
   "id": "3684c98f-99b8-4969-bad1-c37748aa75fa",
   "metadata": {
    "tags": []
   },
   "outputs": [],
   "source": [
    "MUTATIONS_DF_PATH = '../data/mutations_data/mutations.tsv'\n",
    "AV_GFP_PATH = \"../data/avGFP.fasta\"\n",
    "OUTPUT_PATH = '../data/mutations_data/res_mutations.csv'"
   ]
  },
  {
   "cell_type": "code",
   "execution_count": 16,
   "id": "a6482a9c-c5ee-4bab-afe8-3cefbb156270",
   "metadata": {
    "tags": []
   },
   "outputs": [],
   "source": [
    "df = pd.read_csv(MUTATIONS_DF_PATH, sep='\\t', header=None)"
   ]
  },
  {
   "cell_type": "code",
   "execution_count": 17,
   "id": "b60483da-a7fb-4609-9b5f-5923dc801e01",
   "metadata": {
    "tags": []
   },
   "outputs": [],
   "source": [
    "avGFP = SeqIO.read(AV_GFP_PATH, \"fasta\")"
   ]
  },
  {
   "cell_type": "code",
   "execution_count": 18,
   "id": "166362e5-01cf-48fd-a624-0dbe7661b8e8",
   "metadata": {
    "tags": []
   },
   "outputs": [],
   "source": [
    "mutations = []\n",
    "for i, row in df.iterrows():\n",
    "    wt_pos, rest_pos = row[0], \"\".join(row[1:].dropna().to_list())\n",
    "    cur_mutations = [f\"{wt_pos}{aa}\"for aa in rest_pos]\n",
    "    mutations.append(cur_mutations)        "
   ]
  },
  {
   "cell_type": "code",
   "execution_count": 25,
   "id": "6a7c7b70-fe59-44f5-83db-78c3cd3e708d",
   "metadata": {
    "tags": []
   },
   "outputs": [
    {
     "data": {
      "application/vnd.jupyter.widget-view+json": {
       "model_id": "cb1d4811fc6941669d5c9451e2d49798",
       "version_major": 2,
       "version_minor": 0
      },
      "text/plain": [
       "  0%|          | 0/2600 [00:00<?, ?it/s]"
      ]
     },
     "metadata": {},
     "output_type": "display_data"
    },
    {
     "data": {
      "application/vnd.jupyter.widget-view+json": {
       "model_id": "6046af36f2814c169fe5bb6813fb591a",
       "version_major": 2,
       "version_minor": 0
      },
      "text/plain": [
       "  0%|          | 0/14950 [00:00<?, ?it/s]"
      ]
     },
     "metadata": {},
     "output_type": "display_data"
    }
   ],
   "source": [
    "with open(OUTPUT_PATH, 'w') as out_file:\n",
    "    for i in range(3, 5):\n",
    "        make_mutations(mutations, i, avGFP, out_file)"
   ]
  },
  {
   "cell_type": "code",
   "execution_count": null,
   "id": "71875784-e4fb-4903-99a4-bbea6cd11554",
   "metadata": {},
   "outputs": [],
   "source": []
  },
  {
   "cell_type": "code",
   "execution_count": null,
   "id": "fac2b922-59da-441e-aebb-0e4a8d8716b2",
   "metadata": {},
   "outputs": [],
   "source": []
  }
 ],
 "metadata": {
  "kernelspec": {
   "display_name": ".conda-SynGene",
   "language": "python",
   "name": "conda-env-.conda-SynGene-py"
  },
  "language_info": {
   "codemirror_mode": {
    "name": "ipython",
    "version": 3
   },
   "file_extension": ".py",
   "mimetype": "text/x-python",
   "name": "python",
   "nbconvert_exporter": "python",
   "pygments_lexer": "ipython3",
   "version": "3.13.3"
  }
 },
 "nbformat": 4,
 "nbformat_minor": 5
}
