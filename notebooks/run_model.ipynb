{
 "cells": [
  {
   "cell_type": "code",
   "execution_count": null,
   "id": "5bb48b6f-2520-4d08-9134-276cfe155f05",
   "metadata": {
    "tags": []
   },
   "outputs": [],
   "source": [
    "import sys\n",
    "\n",
    "sys.path.insert(0, '../src/SynBIoModules')"
   ]
  },
  {
   "cell_type": "code",
   "execution_count": null,
   "id": "f04f24dd-c696-4aa2-8c81-bddcfe08e5e0",
   "metadata": {
    "tags": []
   },
   "outputs": [],
   "source": [
    "from model import ResLinear\n",
    "\n",
    "import numpy as np\n",
    "import pandas as pd\n",
    "import torch\n",
    "from Bio import SeqIO\n",
    "from tqdm.auto import tqdm\n",
    "from transformers import AutoModel, AutoTokenizer"
   ]
  },
  {
   "cell_type": "code",
   "execution_count": null,
   "id": "7f7cf97c-c70e-4e56-bbdf-bcb46185976d",
   "metadata": {
    "tags": []
   },
   "outputs": [],
   "source": [
    "MODEL_WEIGHTS_PATH = '../data/model_weights/regression_model.weights'\n",
    "OUTPUT_PATH = '../data/predicted_brightness.txt'\n",
    "SEQS_PATH = '../data/mutations_data/res_mutations.csv'"
   ]
  },
  {
   "cell_type": "code",
   "execution_count": null,
   "id": "6d0fa512-85fa-40fc-91be-97066dd17691",
   "metadata": {
    "tags": []
   },
   "outputs": [],
   "source": [
    "device = 'cuda' if torch.cuda.is_available else 'cpu'"
   ]
  },
  {
   "cell_type": "code",
   "execution_count": null,
   "id": "4941c34b-86f6-464a-adf2-5f859afb75fe",
   "metadata": {
    "tags": []
   },
   "outputs": [],
   "source": [
    "brightness_model = ResLinear(1280, 10)"
   ]
  },
  {
   "cell_type": "code",
   "execution_count": null,
   "id": "c4fef6dd-6766-435c-a999-1d6f7a7fc5a7",
   "metadata": {
    "tags": []
   },
   "outputs": [],
   "source": [
    "brightness_model.load_state_dict(torch.load(MODEL_WEIGHTS_PATH, weights_only=True))\n",
    "brightness_model.eval()"
   ]
  },
  {
   "cell_type": "code",
   "execution_count": null,
   "id": "eb6ea759-80c9-4469-a468-0fde95382e20",
   "metadata": {
    "tags": []
   },
   "outputs": [],
   "source": [
    "model_checkpoint = \"facebook/esm2_t33_650M_UR50D\"\n",
    "model_name = model_checkpoint.split(\"/\")[-1]\n",
    "\n",
    "embedding_model = AutoModel.from_pretrained(model_checkpoint).to(device)\n",
    "tokenizer = AutoTokenizer.from_pretrained(model_checkpoint)"
   ]
  },
  {
   "cell_type": "code",
   "execution_count": null,
   "id": "af8297c6-86ad-40e9-9319-191a56fddbcb",
   "metadata": {},
   "outputs": [],
   "source": []
  },
  {
   "cell_type": "code",
   "execution_count": null,
   "id": "61917b75-6e26-4597-8820-193f8bdd2ccf",
   "metadata": {
    "tags": []
   },
   "outputs": [],
   "source": [
    "SEQS_BATCH_SIZE = 600"
   ]
  },
  {
   "cell_type": "code",
   "execution_count": null,
   "id": "4b88d0a0-65cd-45f2-848f-bc835b904535",
   "metadata": {
    "tags": []
   },
   "outputs": [],
   "source": [
    "with pd.read_csv(SEQS_PATH, chunksize=SEQS_BATCH_SIZE, names=['mut', 'seq']) as reader:\n",
    "    for chunk in reader:\n",
    "        seq_batch = chunk['seq'].to_list()\n",
    "        with torch.no_grad():\n",
    "            tokens = tokenizer(seq_batch, return_tensors=\"pt\", padding=True)\n",
    "            tokens = tokens.to(device)\n",
    "            outputs = embedding_model(**tokens)\n",
    "            embeddings = outputs.last_hidden_state.mean(dim=1)\n",
    "            brightness = brightness_model(embeddings)\n",
    "            np.savetxt(OUTPUT_PATH, brightness.cpu().numpy().flatten())\n",
    "            "
   ]
  },
  {
   "cell_type": "code",
   "execution_count": null,
   "id": "9b270370-3480-4229-aa4e-e05f6865415f",
   "metadata": {},
   "outputs": [],
   "source": []
  }
 ],
 "metadata": {
  "kernelspec": {
   "display_name": ".conda-SynGene",
   "language": "python",
   "name": "conda-env-.conda-SynGene-py"
  },
  "language_info": {
   "codemirror_mode": {
    "name": "ipython",
    "version": 3
   },
   "file_extension": ".py",
   "mimetype": "text/x-python",
   "name": "python",
   "nbconvert_exporter": "python",
   "pygments_lexer": "ipython3",
   "version": "3.13.3"
  }
 },
 "nbformat": 4,
 "nbformat_minor": 5
}
