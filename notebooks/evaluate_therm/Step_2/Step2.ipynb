{
 "cells": [
  {
   "cell_type": "code",
   "execution_count": null,
   "id": "8806daf7-9940-40b8-8734-76fd4d1b31d5",
   "metadata": {},
   "outputs": [],
   "source": [
    "!git clone https://github.com/ievapudz/TemStaPro/tree/main"
   ]
  },
  {
   "cell_type": "code",
   "execution_count": null,
   "id": "63e94e02-76b1-4cb3-858f-d519880b7f8a",
   "metadata": {},
   "outputs": [],
   "source": [
    "!conda env create -f environment_CPU.yml"
   ]
  },
  {
   "cell_type": "code",
   "execution_count": null,
   "id": "1d5a85d8-0fd5-48bb-a96c-61a9e5ff51eb",
   "metadata": {},
   "outputs": [],
   "source": [
    "!conda activate temstapro_env_CPU"
   ]
  },
  {
   "cell_type": "code",
   "execution_count": null,
   "id": "96de31ca-97f5-440c-821d-39b5cbe13024",
   "metadata": {},
   "outputs": [],
   "source": [
    "!./temstapro -f /home/p_oleinikov/SynBio/MSU_SynBio_therm/Step_1/fasta_mut_seq.fasta -d ./ProtTrans/ -e tests/outputs/ --mean-output ./step2_res.tsv"
   ]
  }
 ],
 "metadata": {
  "kernelspec": {
   "display_name": ".conda-temberture",
   "language": "python",
   "name": "conda-env-.conda-temberture-py"
  },
  "language_info": {
   "codemirror_mode": {
    "name": "ipython",
    "version": 3
   },
   "file_extension": ".py",
   "mimetype": "text/x-python",
   "name": "python",
   "nbconvert_exporter": "python",
   "pygments_lexer": "ipython3",
   "version": "3.13.2"
  }
 },
 "nbformat": 4,
 "nbformat_minor": 5
}
